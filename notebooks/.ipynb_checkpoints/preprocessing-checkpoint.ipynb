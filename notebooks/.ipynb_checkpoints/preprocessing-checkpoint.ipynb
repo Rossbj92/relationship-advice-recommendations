{
 "cells": [
  {
   "cell_type": "markdown",
   "metadata": {
    "Collapsed": "false"
   },
   "source": [
    "---"
   ]
  },
  {
   "cell_type": "code",
   "execution_count": 1,
   "metadata": {
    "Collapsed": "false"
   },
   "outputs": [],
   "source": [
    "%load_ext autoreload\n",
    "%autoreload 2"
   ]
  },
  {
   "cell_type": "code",
   "execution_count": 2,
   "metadata": {
    "Collapsed": "false"
   },
   "outputs": [],
   "source": [
    "import sys\n",
    "sys.path[-1] = f'{sys.path[0]}' + '/src'\n",
    "\n",
    "from preprocessing.preprocessing_util import load_raw_data, NlpPipe, concat_processed, pd"
   ]
  },
  {
   "cell_type": "markdown",
   "metadata": {
    "Collapsed": "false"
   },
   "source": [
    "---\n",
    "The final product of the preprocessing pipeline is a corpus of posts, with each post consisting of their respective lemmatized words. For a more granular view of each step, please reference the ```preprocessing_util.py``` file.\n",
    "\n",
    "One note I do want to address is that by default, stopwords and punctuation are removed. For word/document embeddings, it has been recommended to leave the former, and potentially the latter, by many. I remove them for 2 reasons:\n",
    "1. This corpus is used for a variety of methods that include both LDA and embeddings. For the combination of both (i.e., contextual topic embeddings in the ```modeling``` notebook, I would have needed 2 separate preprocessing objects, as well as 2 separately processed corpora for training the LDA/embeddings. My memory usage was moreover near capacity with 1. \n",
    "2. [This paper](https://ep.liu.se/ecp/131/039/ecp17131039.pdf) demonstrated that leaving stopwords in or removing had almost no influence in semantic similarity tasks. "
   ]
  },
  {
   "cell_type": "code",
   "execution_count": 3,
   "metadata": {
    "Collapsed": "false"
   },
   "outputs": [
    {
     "data": {
      "text/html": [
       "<div>\n",
       "<style scoped>\n",
       "    .dataframe tbody tr th:only-of-type {\n",
       "        vertical-align: middle;\n",
       "    }\n",
       "\n",
       "    .dataframe tbody tr th {\n",
       "        vertical-align: top;\n",
       "    }\n",
       "\n",
       "    .dataframe thead th {\n",
       "        text-align: right;\n",
       "    }\n",
       "</style>\n",
       "<table border=\"1\" class=\"dataframe\">\n",
       "  <thead>\n",
       "    <tr style=\"text-align: right;\">\n",
       "      <th></th>\n",
       "      <th>created</th>\n",
       "      <th>id</th>\n",
       "      <th>title</th>\n",
       "      <th>text</th>\n",
       "      <th>comments</th>\n",
       "      <th>url</th>\n",
       "      <th>flair</th>\n",
       "      <th>edited</th>\n",
       "      <th>ups</th>\n",
       "      <th>down</th>\n",
       "      <th>num_comments</th>\n",
       "      <th>gilded</th>\n",
       "      <th>awards</th>\n",
       "      <th>sub</th>\n",
       "      <th>total_text</th>\n",
       "    </tr>\n",
       "  </thead>\n",
       "  <tbody>\n",
       "    <tr>\n",
       "      <th>0</th>\n",
       "      <td>2018-05-20 05:15:30</td>\n",
       "      <td>8kqg3d</td>\n",
       "      <td>Staying friends with an ex</td>\n",
       "      <td>I was with this guy for about 3 months. During...</td>\n",
       "      <td>['I  cant really say since I dont know how old...</td>\n",
       "      <td>https://www.reddit.com/r/relationship_advice/c...</td>\n",
       "      <td>NaN</td>\n",
       "      <td>0.0</td>\n",
       "      <td>1</td>\n",
       "      <td>0</td>\n",
       "      <td>3</td>\n",
       "      <td>0</td>\n",
       "      <td>0</td>\n",
       "      <td>relationships_advice</td>\n",
       "      <td>Staying friends with an ex. I was with this gu...</td>\n",
       "    </tr>\n",
       "  </tbody>\n",
       "</table>\n",
       "</div>"
      ],
      "text/plain": [
       "               created      id                       title  \\\n",
       "0  2018-05-20 05:15:30  8kqg3d  Staying friends with an ex   \n",
       "\n",
       "                                                text  \\\n",
       "0  I was with this guy for about 3 months. During...   \n",
       "\n",
       "                                            comments  \\\n",
       "0  ['I  cant really say since I dont know how old...   \n",
       "\n",
       "                                                 url  flair  edited  ups  \\\n",
       "0  https://www.reddit.com/r/relationship_advice/c...    NaN     0.0    1   \n",
       "\n",
       "   down  num_comments  gilded  awards                   sub  \\\n",
       "0     0             3       0       0  relationships_advice   \n",
       "\n",
       "                                          total_text  \n",
       "0  Staying friends with an ex. I was with this gu...  "
      ]
     },
     "execution_count": 3,
     "metadata": {},
     "output_type": "execute_result"
    }
   ],
   "source": [
    "data = load_raw_data('data/raw/raw_sample.csv')\n",
    "data.head(1)"
   ]
  },
  {
   "cell_type": "code",
   "execution_count": 4,
   "metadata": {
    "Collapsed": "false"
   },
   "outputs": [],
   "source": [
    "pipeline = NlpPipe(data['total_text'].tolist()) "
   ]
  },
  {
   "cell_type": "code",
   "execution_count": 5,
   "metadata": {
    "Collapsed": "false"
   },
   "outputs": [],
   "source": [
    "processed = pipeline.lemmatize()"
   ]
  },
  {
   "cell_type": "code",
   "execution_count": 6,
   "metadata": {
    "Collapsed": "false"
   },
   "outputs": [
    {
     "data": {
      "text/plain": [
       "['stay',\n",
       " 'friend',\n",
       " 'ex',\n",
       " 'guy',\n",
       " '3',\n",
       " 'month',\n",
       " 'time',\n",
       " 'start',\n",
       " 'develop',\n",
       " 'depression']"
      ]
     },
     "execution_count": 6,
     "metadata": {},
     "output_type": "execute_result"
    }
   ],
   "source": [
    "# First 10 words of example post after preprocessing \n",
    "processed[0][:10]"
   ]
  },
  {
   "cell_type": "code",
   "execution_count": 7,
   "metadata": {
    "Collapsed": "false"
   },
   "outputs": [
    {
     "data": {
      "text/html": [
       "<div>\n",
       "<style scoped>\n",
       "    .dataframe tbody tr th:only-of-type {\n",
       "        vertical-align: middle;\n",
       "    }\n",
       "\n",
       "    .dataframe tbody tr th {\n",
       "        vertical-align: top;\n",
       "    }\n",
       "\n",
       "    .dataframe thead th {\n",
       "        text-align: right;\n",
       "    }\n",
       "</style>\n",
       "<table border=\"1\" class=\"dataframe\">\n",
       "  <thead>\n",
       "    <tr style=\"text-align: right;\">\n",
       "      <th></th>\n",
       "      <th>id</th>\n",
       "      <th>url</th>\n",
       "      <th>title</th>\n",
       "      <th>text</th>\n",
       "      <th>processed</th>\n",
       "    </tr>\n",
       "  </thead>\n",
       "  <tbody>\n",
       "    <tr>\n",
       "      <th>0</th>\n",
       "      <td>8kqg3d</td>\n",
       "      <td>https://www.reddit.com/r/relationship_advice/c...</td>\n",
       "      <td>Staying friends with an ex</td>\n",
       "      <td>I was with this guy for about 3 months. During...</td>\n",
       "      <td>[stay, friend, ex, guy, 3, month, time, start,...</td>\n",
       "    </tr>\n",
       "  </tbody>\n",
       "</table>\n",
       "</div>"
      ],
      "text/plain": [
       "       id                                                url  \\\n",
       "0  8kqg3d  https://www.reddit.com/r/relationship_advice/c...   \n",
       "\n",
       "                        title  \\\n",
       "0  Staying friends with an ex   \n",
       "\n",
       "                                                text  \\\n",
       "0  I was with this guy for about 3 months. During...   \n",
       "\n",
       "                                           processed  \n",
       "0  [stay, friend, ex, guy, 3, month, time, start,...  "
      ]
     },
     "execution_count": 7,
     "metadata": {},
     "output_type": "execute_result"
    }
   ],
   "source": [
    "processed_df = concat_processed(processed, data, ['id', 'url', 'title', 'text'])\n",
    "processed_df.head(1)"
   ]
  },
  {
   "cell_type": "code",
   "execution_count": 17,
   "metadata": {
    "Collapsed": "false"
   },
   "outputs": [],
   "source": [
    "#processed_df.to_csv('data/interim/processed_sample.csv')"
   ]
  },
  {
   "cell_type": "markdown",
   "metadata": {
    "Collapsed": "false"
   },
   "source": [
    "---\n",
    "<br>\n",
    "Since the goal of this project would be a recommender system, and the data would need to be referenced for each recommendation, I uploaded the data to a Google cloud postgres instance as well."
   ]
  },
  {
   "cell_type": "code",
   "execution_count": null,
   "metadata": {
    "Collapsed": "false"
   },
   "outputs": [],
   "source": [
    "# data_save_df(data=processed_df, \n",
    "#              user='postgres', \n",
    "#              pw=___, \n",
    "#              ip='34.94.44.13', \n",
    "#              port='5432')"
   ]
  }
 ],
 "metadata": {
  "kernelspec": {
   "display_name": "Python 3",
   "language": "python",
   "name": "python3"
  },
  "language_info": {
   "codemirror_mode": {
    "name": "ipython",
    "version": 3
   },
   "file_extension": ".py",
   "mimetype": "text/x-python",
   "name": "python",
   "nbconvert_exporter": "python",
   "pygments_lexer": "ipython3",
   "version": "3.7.6"
  }
 },
 "nbformat": 4,
 "nbformat_minor": 4
}
