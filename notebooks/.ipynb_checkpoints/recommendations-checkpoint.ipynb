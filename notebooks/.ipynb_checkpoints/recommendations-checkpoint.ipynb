{
 "cells": [
  {
   "cell_type": "markdown",
   "metadata": {
    "Collapsed": "false"
   },
   "source": [
    "---"
   ]
  },
  {
   "cell_type": "code",
   "execution_count": 1,
   "metadata": {
    "Collapsed": "false"
   },
   "outputs": [],
   "source": [
    "%load_ext autoreload\n",
    "%autoreload 2"
   ]
  },
  {
   "cell_type": "code",
   "execution_count": 2,
   "metadata": {
    "Collapsed": "false"
   },
   "outputs": [],
   "source": [
    "#Adding path to util \n",
    "import sys\n",
    "sys.path[-1] = f'{sys.path[0]}'.replace('notebooks', 'src')\n",
    "#/src/preprocessing/preprocessing_util.py\n",
    "import preprocessing.preprocessing_util as prep\n",
    "#/src/recommendations/recommend_util.py\n",
    "import recommendations.recommend_util as rec\n",
    "#/src/visualizations/viz_util.py\n",
    "import visualizations.viz_util as viz"
   ]
  },
  {
   "cell_type": "markdown",
   "metadata": {
    "Collapsed": "false"
   },
   "source": [
    "---"
   ]
  },
  {
   "cell_type": "code",
   "execution_count": 3,
   "metadata": {
    "Collapsed": "false"
   },
   "outputs": [],
   "source": [
    "df, lda_bert_model, lda_bert_vectors, \\\n",
    "lda_d2v_model, lda_d2v_vectors, \\\n",
    "bert, bert_vectors, \\\n",
    "lda, lda_vectors, \\\n",
    "d2v, doc_vectors = rec.load()"
   ]
  },
  {
   "cell_type": "markdown",
   "metadata": {
    "Collapsed": "false"
   },
   "source": [
    "Below, 5 different recommendation methods are tested. Markdown is also saved from the original models for the example in ```text```. Since the ideal way to evaluate these recommenders would be with something like an A/B test and measuring usage, I had to qualitatively evaluate them. I ended up choosing the LDA-BERT method for a couple of reasons. \n",
    "\n",
    "1. This method seemed to provide the most germane recommendations for the examples I ran.\n",
    "2. LDA-D2V was close in relevant recommendations, but the advantage with including BERT is that since the doc2vec model was trained on only these posts, BERT would be able identify and embed vocabulary not present in the training set. "
   ]
  },
  {
   "cell_type": "code",
   "execution_count": 4,
   "metadata": {
    "Collapsed": "false"
   },
   "outputs": [],
   "source": [
    "text = \"I caught my partner cheating, and I'm not sure what to do.\"\n",
    "recommend = rec.Recommender(text, df).process_text(prep.NlpPipe([text]).lemmatize())"
   ]
  },
  {
   "cell_type": "code",
   "execution_count": 5,
   "metadata": {
    "Collapsed": "false"
   },
   "outputs": [
    {
     "name": "stdout",
     "output_type": "stream",
     "text": [
      "Post: What to do when you feel like you’ll have to hide your interests, hobbies, and general likes?\n",
      "URL: https://www.reddit.com/r/relationship_advice/comments/8itmhz/what_to_do_when_you_feel_like_youll_have_to_hide/\n",
      "\n",
      "\n",
      "Post: Calling all cheaters!! “Once a cheater, always a cheater.” True or naaaa?\n",
      "URL: https://www.reddit.com/r/relationship_advice/comments/8j9vya/calling_all_cheaters_once_a_cheater_always_a/\n",
      "\n",
      "\n",
      "Post: My (17F) boyfriend (19M) made a fake Instagram account to stalk his ex\n",
      "URL: https://www.reddit.com/r/relationship_advice/comments/8iy5f5/my_17f_boyfriend_19m_made_a_fake_instagram/\n",
      "\n",
      "\n",
      "Post: Snooped on my (32F) BF's (32M) phone, found texts from a girl I don't know\n",
      "URL: https://www.reddit.com/r/relationship_advice/comments/8julhv/snooped_on_my_32f_bfs_32m_phone_found_texts_from/\n",
      "\n",
      "\n",
      "Post: Help Instagram\n",
      "URL: https://www.reddit.com/r/relationship_advice/comments/8jvwf4/help_instagram/\n",
      "\n",
      "\n"
     ]
    }
   ],
   "source": [
    "lda_recs = recommend.lda_preds(lda, lda_vectors)"
   ]
  },
  {
   "cell_type": "markdown",
   "metadata": {
    "Collapsed": "false"
   },
   "source": [
    "**LDA alone**\n",
    "```\n",
    "Post: Does this make any sense?\n",
    "URL: https://www.reddit.com/r/relationship_advice/comments/a3g12z/does_this_make_any_sense/\n",
    "\n",
    "\n",
    "Post: Once a cheater always a cheater?\n",
    "URL: https://www.reddit.com/r/relationship_advice/comments/f7sk47/once_a_cheater_always_a_cheater/\n",
    "\n",
    "\n",
    "Post: I [26m] am having a very difficult time trusting my gf [24f] after a trust-breaking incident, even though I feel enough time has passed and she has proven herself trustworthy.\n",
    "URL: https://www.reddit.com/r/relationship_advice/comments/3301r9/i_26m_am_having_a_very_difficult_time_trusting_my/\n",
    "\n",
    "\n",
    "Post: Would you be angry if your partner still keeps a physical photo album of pictures taken with the ex?\n",
    "URL: https://www.reddit.com/r/relationship_advice/comments/frmb0i/would_you_be_angry_if_your_partner_still_keeps_a/\n",
    "\n",
    "\n",
    "Post: BF of 4 years has very flirtatious thing with co-worker, should I be worried?\n",
    "URL: https://www.reddit.com/r/relationship_advice/comments/aat7o6/bf_of_4_years_has_very_flirtatious_thing_with/\n",
    "```"
   ]
  },
  {
   "cell_type": "code",
   "execution_count": 6,
   "metadata": {
    "Collapsed": "false"
   },
   "outputs": [
    {
     "name": "stdout",
     "output_type": "stream",
     "text": [
      "Post: (14/f) I'm in love with my best friend (14/m). What do I do?\n",
      "URL: https://www.reddit.com/r/relationship_advice/comments/8j8rn0/14f_im_in_love_with_my_best_friend_14m_what_do_i/\n",
      "\n",
      "\n",
      "Post: I’m [29F] pregnant by my [29M] partner. We’ve only been together a couple of months... What do I do now?\n",
      "URL: https://www.reddit.com/r/relationship_advice/comments/8jb8lf/im_29f_pregnant_by_my_29m_partner_weve_only_been/\n",
      "\n",
      "\n",
      "Post: i love my best friend\n",
      "URL: https://www.reddit.com/r/relationship_advice/comments/8jv4bl/i_love_my_best_friend/\n",
      "\n",
      "\n",
      "Post: Best way to fight being insecure feelings/thoughts?\n",
      "URL: https://www.reddit.com/r/relationship_advice/comments/8jw8ib/best_way_to_fight_being_insecure_feelingsthoughts/\n",
      "\n",
      "\n",
      "Post: How to Get Over Your Ex\n",
      "URL: https://www.reddit.com/r/relationship_advice/comments/8joqod/how_to_get_over_your_ex/\n",
      "\n",
      "\n"
     ]
    }
   ],
   "source": [
    "d2v_recs = recommend.d2v_preds(d2v, doc_vectors)"
   ]
  },
  {
   "cell_type": "markdown",
   "metadata": {
    "Collapsed": "false"
   },
   "source": [
    "**Doc2Vec alone**\n",
    "```\n",
    "Post: Cheating\n",
    "URL: https://www.reddit.com/r/relationship_advice/comments/9wsic7/cheating/\n",
    "\n",
    "\n",
    "Post: Cheating\n",
    "URL: https://www.reddit.com/r/relationship_advice/comments/e1leum/cheating/\n",
    "\n",
    "\n",
    "Post: Question for men\n",
    "URL: https://www.reddit.com/r/relationship_advice/comments/cs1t25/question_for_men/\n",
    "\n",
    "\n",
    "Post: Relationship question\n",
    "URL: https://www.reddit.com/r/relationship_advice/comments/5vp37z/relationship_question/\n",
    "\n",
    "\n",
    "Post: What is a reason to cheat on a partner that has never cheated on you?\n",
    "URL: https://www.reddit.com/r/relationship_advice/comments/hunsov/what_is_a_reason_to_cheat_on_a_partner_that_has/\n",
    "```"
   ]
  },
  {
   "cell_type": "code",
   "execution_count": 7,
   "metadata": {
    "Collapsed": "false"
   },
   "outputs": [
    {
     "name": "stdout",
     "output_type": "stream",
     "text": [
      "Post: Calling all cheaters!! “Once a cheater, always a cheater.” True or naaaa?\n",
      "URL: https://www.reddit.com/r/relationship_advice/comments/8j9vya/calling_all_cheaters_once_a_cheater_always_a/\n",
      "\n",
      "\n",
      "Post: Infidelity\n",
      "URL: https://www.reddit.com/r/relationship_advice/comments/8jwc06/infidelity/\n",
      "\n",
      "\n",
      "Post: I think my girlfriend is cheating on me any advice?\n",
      "URL: https://www.reddit.com/r/relationship_advice/comments/8jq6xx/i_think_my_girlfriend_is_cheating_on_me_any_advice/\n",
      "\n",
      "\n",
      "Post: My(48) SO(41) instists she never lies and has never lied to me.\n",
      "URL: https://www.reddit.com/r/relationship_advice/comments/8k5lda/my48_so41_instists_she_never_lies_and_has_never/\n",
      "\n",
      "\n",
      "Post: Help getting out of a emotionally and financially abusive relationship relationship from my bf\n",
      "URL: https://www.reddit.com/r/relationship_advice/comments/8izoj1/help_getting_out_of_a_emotionally_and_financially/\n",
      "\n",
      "\n"
     ]
    }
   ],
   "source": [
    "bert_recs = recommend.bert_preds(bert, bert_vectors)"
   ]
  },
  {
   "cell_type": "markdown",
   "metadata": {
    "Collapsed": "false"
   },
   "source": [
    "**BERT alone**\n",
    "```\n",
    "Post: What is a reason to cheat on a partner that has never cheated on you?\n",
    "URL: https://www.reddit.com/r/relationship_advice/comments/hunsov/what_is_a_reason_to_cheat_on_a_partner_that_has/\n",
    "\n",
    "\n",
    "Post: Telling on Cheaters\n",
    "URL: https://www.reddit.com/r/relationship_advice/comments/gclcuc/telling_on_cheaters/\n",
    "\n",
    "\n",
    "Post: Things guys say when they get caught cheating!\n",
    "URL: https://www.reddit.com/r/relationship_advice/comments/7p6e68/things_guys_say_when_they_get_caught_cheating/\n",
    "\n",
    "\n",
    "Post: Cheating\n",
    "URL: https://www.reddit.com/r/relationship_advice/comments/9wsic7/cheating/\n",
    "\n",
    "\n",
    "Post: Will they cheat?\n",
    "URL: https://www.reddit.com/r/relationship_advice/comments/4bw6l8/will_they_cheat/\n",
    "```"
   ]
  },
  {
   "cell_type": "code",
   "execution_count": 8,
   "metadata": {
    "Collapsed": "false"
   },
   "outputs": [
    {
     "name": "stdout",
     "output_type": "stream",
     "text": [
      "Post: What to do when you feel like you’ll have to hide your interests, hobbies, and general likes?\n",
      "URL: https://www.reddit.com/r/relationship_advice/comments/8itmhz/what_to_do_when_you_feel_like_youll_have_to_hide/\n",
      "\n",
      "\n",
      "Post: Calling all cheaters!! “Once a cheater, always a cheater.” True or naaaa?\n",
      "URL: https://www.reddit.com/r/relationship_advice/comments/8j9vya/calling_all_cheaters_once_a_cheater_always_a/\n",
      "\n",
      "\n",
      "Post: My (17F) boyfriend (19M) made a fake Instagram account to stalk his ex\n",
      "URL: https://www.reddit.com/r/relationship_advice/comments/8iy5f5/my_17f_boyfriend_19m_made_a_fake_instagram/\n",
      "\n",
      "\n",
      "Post: [M 28, F 26] Cheating husband cheats again. What should I do?\n",
      "URL: https://www.reddit.com/r/relationship_advice/comments/8kibg6/m_28_f_26_cheating_husband_cheats_again_what/\n",
      "\n",
      "\n",
      "Post: I [M21] think [F21] is into me. Are these signs that she is interested?\n",
      "URL: https://www.reddit.com/r/relationship_advice/comments/8ki1h9/i_m21_think_f21_is_into_me_are_these_signs_that/\n",
      "\n",
      "\n"
     ]
    }
   ],
   "source": [
    "lda_d2v_recs = recommend.lda_d2v_preds(lda, d2v, lda_d2v_model, lda_d2v_vectors)"
   ]
  },
  {
   "cell_type": "markdown",
   "metadata": {
    "Collapsed": "false"
   },
   "source": [
    "**LDA-Doc2Vec**\n",
    "```\n",
    "Post: Telling on Cheaters\n",
    "URL: https://www.reddit.com/r/relationship_advice/comments/gclcuc/telling_on_cheaters/\n",
    "\n",
    "\n",
    "Post: Would you forgive a cheater?\n",
    "URL: https://www.reddit.com/r/relationship_advice/comments/e95qrx/would_you_forgive_a_cheater/\n",
    "\n",
    "\n",
    "Post: Men- please enlighten me\n",
    "URL: https://www.reddit.com/r/relationship_advice/comments/i3qvi4/men_please_enlighten_me/\n",
    "\n",
    "\n",
    "Post: Does this make any sense?\n",
    "URL: https://www.reddit.com/r/relationship_advice/comments/a3g12z/does_this_make_any_sense/\n",
    "\n",
    "\n",
    "Post: have you ever gotten back with an ex who cheated?\n",
    "URL: https://www.reddit.com/r/relationship_advice/comments/9n55du/have_you_ever_gotten_back_with_an_ex_who_cheated/\n",
    "```"
   ]
  },
  {
   "cell_type": "code",
   "execution_count": 9,
   "metadata": {
    "Collapsed": "false"
   },
   "outputs": [
    {
     "name": "stdout",
     "output_type": "stream",
     "text": [
      "Post: Infidelity\n",
      "URL: https://www.reddit.com/r/relationship_advice/comments/8jwc06/infidelity/\n",
      "\n",
      "\n",
      "Post: Calling all cheaters!! “Once a cheater, always a cheater.” True or naaaa?\n",
      "URL: https://www.reddit.com/r/relationship_advice/comments/8j9vya/calling_all_cheaters_once_a_cheater_always_a/\n",
      "\n",
      "\n",
      "Post: Is it 'my job' to make my partner not feel insecure, anxious and jealous about members of the opposite sex?\n",
      "URL: https://www.reddit.com/r/relationship_advice/comments/8jt3kq/is_it_my_job_to_make_my_partner_not_feel_insecure/\n",
      "\n",
      "\n",
      "Post: What to do when you feel like you’ll have to hide your interests, hobbies, and general likes?\n",
      "URL: https://www.reddit.com/r/relationship_advice/comments/8itmhz/what_to_do_when_you_feel_like_youll_have_to_hide/\n",
      "\n",
      "\n",
      "Post: My(48) SO(41) instists she never lies and has never lied to me.\n",
      "URL: https://www.reddit.com/r/relationship_advice/comments/8k5lda/my48_so41_instists_she_never_lies_and_has_never/\n",
      "\n",
      "\n"
     ]
    }
   ],
   "source": [
    "lda_bert_recs = recommend.lda_bert_preds(lda, bert, lda_bert_model, lda_bert_vectors)"
   ]
  },
  {
   "cell_type": "markdown",
   "metadata": {
    "Collapsed": "false"
   },
   "source": [
    "**LDA-BERT**\n",
    "```\n",
    "Post: What is a reason to cheat on a partner that has never cheated on you?\n",
    "URL: https://www.reddit.com/r/relationship_advice/comments/hunsov/what_is_a_reason_to_cheat_on_a_partner_that_has/\n",
    "\n",
    "\n",
    "Post: Will they cheat?\n",
    "URL: https://www.reddit.com/r/relationship_advice/comments/4bw6l8/will_they_cheat/\n",
    "\n",
    "\n",
    "Post: Should I get back with a cheater?\n",
    "URL: https://www.reddit.com/r/relationship_advice/comments/dpas0b/should_i_get_back_with_a_cheater/\n",
    "\n",
    "\n",
    "Post: What constitutes cheating??\n",
    "URL: https://www.reddit.com/r/relationship_advice/comments/da2ir0/what_constitutes_cheating/\n",
    "\n",
    "\n",
    "Post: On cheaters:\n",
    "URL: https://www.reddit.com/r/relationship_advice/comments/945fry/on_cheaters/\n",
    "```"
   ]
  },
  {
   "cell_type": "markdown",
   "metadata": {
    "Collapsed": "false"
   },
   "source": [
    "# Visualizing"
   ]
  },
  {
   "cell_type": "markdown",
   "metadata": {
    "Collapsed": "false"
   },
   "source": [
    "To help visualize the results, I used UMAP projections. Below, a mock post is vectorized and then plotted with the rest of existing data. Then, the top 5 recommendations are plotted."
   ]
  },
  {
   "cell_type": "code",
   "execution_count": 10,
   "metadata": {
    "Collapsed": "false"
   },
   "outputs": [],
   "source": [
    "text = \"The communication in my relationship is terrible. We can never reach a resolution in a disagreement, and we're starting to argue more and more.\"\n",
    "viz_recommend = rec.Recommender(text, df).process_text(prep.NlpPipe([text]).lemmatize())"
   ]
  },
  {
   "cell_type": "code",
   "execution_count": 11,
   "metadata": {
    "Collapsed": "false"
   },
   "outputs": [],
   "source": [
    "viz_recs = viz_recommend.lda_bert_preds(lda, \n",
    "                                        bert, \n",
    "                                        lda_bert_model, \n",
    "                                        lda_bert_vectors, \n",
    "                                        num_recs = 'all', \n",
    "                                        save_vec = True, \n",
    "                                        save_idxes = True, \n",
    "                                        print_recs = False)"
   ]
  },
  {
   "cell_type": "code",
   "execution_count": 12,
   "metadata": {
    "Collapsed": "false"
   },
   "outputs": [],
   "source": [
    "umap_data = viz.umap_transform(lda_bert_vectors, viz_recs.predicted_vec)"
   ]
  },
  {
   "cell_type": "code",
   "execution_count": 16,
   "metadata": {
    "Collapsed": "false"
   },
   "outputs": [],
   "source": [
    "viz.umap_viz(vectors=umap_data, \n",
    "             pred_text=text, \n",
    "             pred_color='#f20253'\n",
    "            )"
   ]
  },
  {
   "cell_type": "markdown",
   "metadata": {
    "Collapsed": "false",
    "jupyter": {
     "source_hidden": true
    }
   },
   "source": [
    "![umap alone](../reports/figures/post_alone.png)"
   ]
  },
  {
   "cell_type": "code",
   "execution_count": 20,
   "metadata": {
    "Collapsed": "false"
   },
   "outputs": [],
   "source": [
    "viz.umap_viz(vectors=umap_data, \n",
    "             pred_text=text, \n",
    "             pred_color='#f20253', \n",
    "             plot_recs = True, \n",
    "             df=df, \n",
    "             dists=viz_recs.rec_idxes, \n",
    "             recs=5, \n",
    "             recs_colors=['#ff9715', '#7ecefd', '#2185c5', 'purple', 'green']\n",
    "            )"
   ]
  },
  {
   "cell_type": "markdown",
   "metadata": {
    "Collapsed": "false"
   },
   "source": [
    "![umap with recs](../reports/figures/post_with_recs.png)"
   ]
  },
  {
   "cell_type": "code",
   "execution_count": null,
   "metadata": {
    "Collapsed": "false"
   },
   "outputs": [],
   "source": []
  }
 ],
 "metadata": {
  "kernelspec": {
   "display_name": "Python 3",
   "language": "python",
   "name": "python3"
  },
  "language_info": {
   "codemirror_mode": {
    "name": "ipython",
    "version": 3
   },
   "file_extension": ".py",
   "mimetype": "text/x-python",
   "name": "python",
   "nbconvert_exporter": "python",
   "pygments_lexer": "ipython3",
   "version": "3.7.6"
  }
 },
 "nbformat": 4,
 "nbformat_minor": 4
}
