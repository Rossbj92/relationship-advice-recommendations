{
 "cells": [
  {
   "cell_type": "code",
   "execution_count": 307,
   "metadata": {
    "Collapsed": "false"
   },
   "outputs": [],
   "source": [
    "# Used while building util file\n",
    "%load_ext autoreload\n",
    "%autoreload 2"
   ]
  },
  {
   "cell_type": "code",
   "execution_count": 293,
   "metadata": {
    "Collapsed": "false"
   },
   "outputs": [],
   "source": [
    "#Adding path to util \n",
    "import sys\n",
    "sys.path[-1] = f'{sys.path[0]}' + '/src'\n",
    "#/src/feature_engineering/engineering_utils.py\n",
    "import feature_engineering.engineering_utils as eng"
   ]
  },
  {
   "cell_type": "code",
   "execution_count": 7,
   "metadata": {
    "Collapsed": "false"
   },
   "outputs": [],
   "source": [
    "CONTRACTION_MAP = {\n",
    "\"ain't\": \"is not\",\n",
    "\"aren't\": \"are not\",\n",
    "\"can't\": \"cannot\",\n",
    "\"can't've\": \"cannot have\",\n",
    "\"'cause\": \"because\",\n",
    "\"could've\": \"could have\",\n",
    "\"couldn't\": \"could not\",\n",
    "\"couldn't've\": \"could not have\",\n",
    "\"didn't\": \"did not\",\n",
    "\"doesn't\": \"does not\",\n",
    "\"don't\": \"do not\",\n",
    "\"hadn't\": \"had not\",\n",
    "\"hadn't've\": \"had not have\",\n",
    "\"hasn't\": \"has not\",\n",
    "\"haven't\": \"have not\",\n",
    "\"he'd\": \"he would\",\n",
    "\"he'd've\": \"he would have\",\n",
    "\"he'll\": \"he will\",\n",
    "\"he'll've\": \"he he will have\",\n",
    "\"he's\": \"he is\",\n",
    "\"how'd\": \"how did\",\n",
    "\"how'd'y\": \"how do you\",\n",
    "\"how'll\": \"how will\",\n",
    "\"how's\": \"how is\",\n",
    "\"I'd\": \"I would\",\n",
    "\"I'd've\": \"I would have\",\n",
    "\"I'll\": \"I will\",\n",
    "\"I'll've\": \"I will have\",\n",
    "\"I'm\": \"I am\",\n",
    "\"I've\": \"I have\",\n",
    "\"i'd\": \"i would\",\n",
    "\"i'd've\": \"i would have\",\n",
    "\"i'll\": \"i will\",\n",
    "\"i'll've\": \"i will have\",\n",
    "\"i'm\": \"i am\",\n",
    "\"i've\": \"i have\",\n",
    "\"isn't\": \"is not\",\n",
    "\"it'd\": \"it would\",\n",
    "\"it'd've\": \"it would have\",\n",
    "\"it'll\": \"it will\",\n",
    "\"it'll've\": \"it will have\",\n",
    "\"it's\": \"it is\",\n",
    "\"let's\": \"let us\",\n",
    "\"ma'am\": \"madam\",\n",
    "\"mayn't\": \"may not\",\n",
    "\"might've\": \"might have\",\n",
    "\"mightn't\": \"might not\",\n",
    "\"mightn't've\": \"might not have\",\n",
    "\"must've\": \"must have\",\n",
    "\"mustn't\": \"must not\",\n",
    "\"mustn't've\": \"must not have\",\n",
    "\"needn't\": \"need not\",\n",
    "\"needn't've\": \"need not have\",\n",
    "\"o'clock\": \"of the clock\",\n",
    "\"oughtn't\": \"ought not\",\n",
    "\"oughtn't've\": \"ought not have\",\n",
    "\"shan't\": \"shall not\",\n",
    "\"sha'n't\": \"shall not\",\n",
    "\"shan't've\": \"shall not have\",\n",
    "\"she'd\": \"she would\",\n",
    "\"she'd've\": \"she would have\",\n",
    "\"she'll\": \"she will\",\n",
    "\"she'll've\": \"she will have\",\n",
    "\"she's\": \"she is\",\n",
    "\"should've\": \"should have\",\n",
    "\"shouldn't\": \"should not\",\n",
    "\"shouldn't've\": \"should not have\",\n",
    "\"so've\": \"so have\",\n",
    "\"so's\": \"so as\",\n",
    "\"that'd\": \"that would\",\n",
    "\"that'd've\": \"that would have\",\n",
    "\"that's\": \"that is\",\n",
    "\"there'd\": \"there would\",\n",
    "\"there'd've\": \"there would have\",\n",
    "\"there's\": \"there is\",\n",
    "\"they'd\": \"they would\",\n",
    "\"they'd've\": \"they would have\",\n",
    "\"they'll\": \"they will\",\n",
    "\"they'll've\": \"they will have\",\n",
    "\"they're\": \"they are\",\n",
    "\"they've\": \"they have\",\n",
    "\"to've\": \"to have\",\n",
    "\"wasn't\": \"was not\",\n",
    "\"we'd\": \"we would\",\n",
    "\"we'd've\": \"we would have\",\n",
    "\"we'll\": \"we will\",\n",
    "\"we'll've\": \"we will have\",\n",
    "\"we're\": \"we are\",\n",
    "\"we've\": \"we have\",\n",
    "\"weren't\": \"were not\",\n",
    "\"what'll\": \"what will\",\n",
    "\"what'll've\": \"what will have\",\n",
    "\"what're\": \"what are\",\n",
    "\"what's\": \"what is\",\n",
    "\"what've\": \"what have\",\n",
    "\"when's\": \"when is\",\n",
    "\"when've\": \"when have\",\n",
    "\"where'd\": \"where did\",\n",
    "\"where's\": \"where is\",\n",
    "\"where've\": \"where have\",\n",
    "\"who'll\": \"who will\",\n",
    "\"who'll've\": \"who will have\",\n",
    "\"who's\": \"who is\",\n",
    "\"who've\": \"who have\",\n",
    "\"why's\": \"why is\",\n",
    "\"why've\": \"why have\",\n",
    "\"will've\": \"will have\",\n",
    "\"won't\": \"will not\",\n",
    "\"won't've\": \"will not have\",\n",
    "\"would've\": \"would have\",\n",
    "\"wouldn't\": \"would not\",\n",
    "\"wouldn't've\": \"would not have\",\n",
    "\"y'all\": \"you all\",\n",
    "\"y'all'd\": \"you all would\",\n",
    "\"y'all'd've\": \"you all would have\",\n",
    "\"y'all're\": \"you all are\",\n",
    "\"y'all've\": \"you all have\",\n",
    "\"you'd\": \"you would\",\n",
    "\"you'd've\": \"you would have\",\n",
    "\"you'll\": \"you will\",\n",
    "\"you'll've\": \"you will have\",\n",
    "\"you're\": \"you are\",\n",
    "\"you've\": \"you have\"\n",
    "}"
   ]
  },
  {
   "cell_type": "code",
   "execution_count": 11,
   "metadata": {
    "Collapsed": "false"
   },
   "outputs": [],
   "source": [
    "#data = pd.read_csv('34293rows_1570408556.csv')"
   ]
  },
  {
   "cell_type": "code",
   "execution_count": 261,
   "metadata": {
    "Collapsed": "false"
   },
   "outputs": [],
   "source": [
    "def expand_contractions(text, contraction_mapping=CONTRACTION_MAP):\n",
    "#     https://github.com/dipanjanS/practical-machine-learning-with-python/tree/master/bonus%20content/nlp%20proven%20approach\n",
    "    \n",
    "    contractions_pattern = re.compile('({})'.format('|'.join(contraction_mapping.keys())), \n",
    "                                      flags=re.IGNORECASE|re.DOTALL)\n",
    "    def expand_match(contraction):\n",
    "        match = contraction.group(0)\n",
    "        first_char = match[0]\n",
    "        expanded_contraction = contraction_mapping.get(match)\\\n",
    "                                if contraction_mapping.get(match)\\\n",
    "                                else contraction_mapping.get(match.lower())                       \n",
    "        expanded_contraction = first_char+expanded_contraction[1:]\n",
    "        return expanded_contraction\n",
    "        \n",
    "    expanded_text = contractions_pattern.sub(expand_match, text)\n",
    "    expanded_text = re.sub(\"'\", \"\", expanded_text)\n",
    "    return expanded_text"
   ]
  },
  {
   "cell_type": "code",
   "execution_count": 352,
   "metadata": {
    "Collapsed": "false"
   },
   "outputs": [],
   "source": [
    "def standardize_age_gender(text):\n",
    "    \"\"\"short summ.\n",
    "    \n",
    "    A convention in r/relationships_advice is referring to onself and\n",
    "    one's partner with the format \"(agegender)\", e.g., 28m. Processing\n",
    "    these causes issues, with the age and gender portion usually split\n",
    "    and nonsensical. This function catches all strings containing 2 \n",
    "    numeric characters and 1 letter, splits them on the second numeric\n",
    "    character, and combines them with an underscore.\n",
    "    \n",
    "    Args:\n",
    "        text(str):\n",
    "        \n",
    "    Returns:\n",
    "        str\n",
    "    \"\"\"\n",
    "    matches = re.findall(r\"\\b[0-9]{2}[A-Za-z]\\b\", text)\n",
    "    for idx,match in enumerate(matches):\n",
    "        text = text.replace(matches[idx], match[:2] + '_' + match[-1])    \n",
    "    return text"
   ]
  },
  {
   "cell_type": "code",
   "execution_count": 435,
   "metadata": {
    "Collapsed": "false"
   },
   "outputs": [],
   "source": [
    "def text_parser(text):\n",
    "    \"\"\"short summ.\n",
    "    \n",
    "    long summ.\n",
    "    \n",
    "    Args:\n",
    "        text:\n",
    "        \n",
    "    Returns:\n",
    "    \n",
    "    \"\"\"\n",
    "    #looping through each word because comments come in lists - posts aren't long enough for this to take much extra time\n",
    "    joined_comments = (''.join([word for word in text])).replace('\\\\n', ' ').lower().strip()\n",
    "    age_gender_standardized = standardize_age_gender(joined_comments)\n",
    "    contraction_expansion = expand_contractions(age_gender_standardized)\n",
    "    \n",
    "    return re.sub(r'[\\\"\\'\\[\\]\\(\\)\\:?\\\\+]', ' ', contraction_expansion).replace('\\n', ' ')\n",
    "\n",
    "#.replace('’', \"'\")"
   ]
  },
  {
   "cell_type": "code",
   "execution_count": 424,
   "metadata": {
    "Collapsed": "false"
   },
   "outputs": [],
   "source": [
    "def tokenize_lemmatize(text):\n",
    "    cleaned = text.map(text_parser)\n",
    "    tokens = cleaned.map(lambda x: nlp(x))\n",
    "    lemmas = tokens.map(lambda x: [tok.lemma_ for tok in x if tok.is_punct == False and tok.is_stop == False and str(tok) not in '                 '])\n",
    "    \n",
    "    return lemmas"
   ]
  },
  {
   "cell_type": "code",
   "execution_count": 248,
   "metadata": {
    "Collapsed": "false"
   },
   "outputs": [],
   "source": [
    "# def process_text(data):\n",
    "    \n",
    "#     data['total_text'] = data['title'] + '. ' + data['text']\n",
    "#     data['posts_processed'] = tokenize_lemmatize(data['total_text'])\n",
    "#     data['comments_processed'] =  tokenize_lemmatize(data['comments'])\n",
    "#     return data[['id', 'url', 'posts_processed', 'comments_processed']]"
   ]
  },
  {
   "cell_type": "code",
   "execution_count": 442,
   "metadata": {
    "Collapsed": "false"
   },
   "outputs": [],
   "source": [
    "def process_posts(data):\n",
    "     \n",
    "    data['total_text'] = data['title'] + '. ' + data['text']\n",
    "    data['posts_processed'] = tokenize_lemmatize(data['total_text'])\n",
    "    return data[['id', 'url', 'posts_processed']]   "
   ]
  },
  {
   "cell_type": "code",
   "execution_count": 294,
   "metadata": {
    "Collapsed": "false"
   },
   "outputs": [],
   "source": [
    "data = eng.load_data('data/interim/processed_sample.csv')"
   ]
  },
  {
   "cell_type": "code",
   "execution_count": 295,
   "metadata": {
    "Collapsed": "false"
   },
   "outputs": [
    {
     "data": {
      "text/html": [
       "<div>\n",
       "<style scoped>\n",
       "    .dataframe tbody tr th:only-of-type {\n",
       "        vertical-align: middle;\n",
       "    }\n",
       "\n",
       "    .dataframe tbody tr th {\n",
       "        vertical-align: top;\n",
       "    }\n",
       "\n",
       "    .dataframe thead th {\n",
       "        text-align: right;\n",
       "    }\n",
       "</style>\n",
       "<table border=\"1\" class=\"dataframe\">\n",
       "  <thead>\n",
       "    <tr style=\"text-align: right;\">\n",
       "      <th></th>\n",
       "      <th>Unnamed: 0</th>\n",
       "      <th>id</th>\n",
       "      <th>url</th>\n",
       "      <th>title</th>\n",
       "      <th>text</th>\n",
       "      <th>processed</th>\n",
       "    </tr>\n",
       "  </thead>\n",
       "  <tbody>\n",
       "    <tr>\n",
       "      <th>0</th>\n",
       "      <td>0</td>\n",
       "      <td>8kqg3d</td>\n",
       "      <td>https://www.reddit.com/r/relationship_advice/c...</td>\n",
       "      <td>Staying friends with an ex</td>\n",
       "      <td>I was with this guy for about 3 months. During...</td>\n",
       "      <td>['stay', 'friend', 'ex', 'guy', '3', 'month', ...</td>\n",
       "    </tr>\n",
       "    <tr>\n",
       "      <th>1</th>\n",
       "      <td>1</td>\n",
       "      <td>8kqe1l</td>\n",
       "      <td>https://www.reddit.com/r/relationship_advice/c...</td>\n",
       "      <td>I [29/f] am not sure if he [34/m] is really in...</td>\n",
       "      <td>I met this guy over the past summer and we hun...</td>\n",
       "      <td>['29', 'f', 'sure', '34', 'm', 'interested', '...</td>\n",
       "    </tr>\n",
       "    <tr>\n",
       "      <th>2</th>\n",
       "      <td>2</td>\n",
       "      <td>8kqb8v</td>\n",
       "      <td>https://www.reddit.com/r/relationship_advice/c...</td>\n",
       "      <td>How to give my number to my work-crush W/O bei...</td>\n",
       "      <td>(please delete if not allowed) \\nHi all! Not s...</td>\n",
       "      <td>['number', 'work', 'crush', 'without', 'creepy...</td>\n",
       "    </tr>\n",
       "    <tr>\n",
       "      <th>3</th>\n",
       "      <td>3</td>\n",
       "      <td>8kqa1n</td>\n",
       "      <td>https://www.reddit.com/r/relationship_advice/c...</td>\n",
       "      <td>im a cheater</td>\n",
       "      <td>i know what i did was wrong. but what should i...</td>\n",
       "      <td>['be', 'cheater', 'know', 'wrong', 'kiss', 'be...</td>\n",
       "    </tr>\n",
       "    <tr>\n",
       "      <th>4</th>\n",
       "      <td>4</td>\n",
       "      <td>8kq87l</td>\n",
       "      <td>https://www.reddit.com/r/relationship_advice/c...</td>\n",
       "      <td>I am afraid of getting hurt by my boyfriend again</td>\n",
       "      <td>Me and my boyfriend are 5 months together, we ...</td>\n",
       "      <td>['afraid', 'get', 'hurt', 'boyfriend', 'boyfri...</td>\n",
       "    </tr>\n",
       "  </tbody>\n",
       "</table>\n",
       "</div>"
      ],
      "text/plain": [
       "   Unnamed: 0      id                                                url  \\\n",
       "0           0  8kqg3d  https://www.reddit.com/r/relationship_advice/c...   \n",
       "1           1  8kqe1l  https://www.reddit.com/r/relationship_advice/c...   \n",
       "2           2  8kqb8v  https://www.reddit.com/r/relationship_advice/c...   \n",
       "3           3  8kqa1n  https://www.reddit.com/r/relationship_advice/c...   \n",
       "4           4  8kq87l  https://www.reddit.com/r/relationship_advice/c...   \n",
       "\n",
       "                                               title  \\\n",
       "0                         Staying friends with an ex   \n",
       "1  I [29/f] am not sure if he [34/m] is really in...   \n",
       "2  How to give my number to my work-crush W/O bei...   \n",
       "3                                       im a cheater   \n",
       "4  I am afraid of getting hurt by my boyfriend again   \n",
       "\n",
       "                                                text  \\\n",
       "0  I was with this guy for about 3 months. During...   \n",
       "1  I met this guy over the past summer and we hun...   \n",
       "2  (please delete if not allowed) \\nHi all! Not s...   \n",
       "3  i know what i did was wrong. but what should i...   \n",
       "4  Me and my boyfriend are 5 months together, we ...   \n",
       "\n",
       "                                           processed  \n",
       "0  ['stay', 'friend', 'ex', 'guy', '3', 'month', ...  \n",
       "1  ['29', 'f', 'sure', '34', 'm', 'interested', '...  \n",
       "2  ['number', 'work', 'crush', 'without', 'creepy...  \n",
       "3  ['be', 'cheater', 'know', 'wrong', 'kiss', 'be...  \n",
       "4  ['afraid', 'get', 'hurt', 'boyfriend', 'boyfri...  "
      ]
     },
     "execution_count": 295,
     "metadata": {},
     "output_type": "execute_result"
    }
   ],
   "source": [
    "data.head()"
   ]
  },
  {
   "cell_type": "markdown",
   "metadata": {
    "Collapsed": "false"
   },
   "source": [
    "<br>\n",
    "The first thing to do is extract our corpus from the dataframe, then format it for use in Gensim. "
   ]
  },
  {
   "cell_type": "code",
   "execution_count": 296,
   "metadata": {
    "Collapsed": "false"
   },
   "outputs": [],
   "source": [
    "corpus = eng.get_corpus(data, 'processed')"
   ]
  },
  {
   "cell_type": "code",
   "execution_count": 297,
   "metadata": {
    "Collapsed": "false"
   },
   "outputs": [
    {
     "data": {
      "text/plain": [
       "<feature_engineering.engineering_utils.LDA at 0x7fb98b858d50>"
      ]
     },
     "execution_count": 297,
     "metadata": {},
     "output_type": "execute_result"
    }
   ],
   "source": [
    "lda = eng.LDA(corpus)\n",
    "lda.format_corpus()"
   ]
  },
  {
   "cell_type": "markdown",
   "metadata": {
    "Collapsed": "false"
   },
   "source": [
    "# LDA"
   ]
  },
  {
   "cell_type": "markdown",
   "metadata": {
    "Collapsed": "false"
   },
   "source": [
    "The final LDA model used Gensim's Mallet wrapper. I compared this with the ```LDAmulticore``` model from Gensim, measuring model performance with the ```c_v``` coherence measure. This ```c_v``` coherence measure, in addition to inspection of the highest probability topics' words, led to choosing 20 topics as the optimal amount. "
   ]
  },
  {
   "cell_type": "markdown",
   "metadata": {
    "Collapsed": "false"
   },
   "source": [
    "**Multicore**"
   ]
  },
  {
   "cell_type": "code",
   "execution_count": 164,
   "metadata": {
    "Collapsed": "false"
   },
   "outputs": [],
   "source": [
    "lda_multi = lda.train()"
   ]
  },
  {
   "cell_type": "markdown",
   "metadata": {
    "Collapsed": "false"
   },
   "source": [
    "**Mallet**"
   ]
  },
  {
   "cell_type": "code",
   "execution_count": 299,
   "metadata": {
    "Collapsed": "false"
   },
   "outputs": [],
   "source": [
    "mallet_path = 'models/mallet-2.0.8/bin/mallet' \n",
    "lda_mallet = lda.train(mallet_path = mallet_path)\n",
    "# lda_mallet.save('models/lda/lda_model') # saving model"
   ]
  },
  {
   "cell_type": "markdown",
   "metadata": {
    "Collapsed": "false"
   },
   "source": [
    "### LDA Coherence"
   ]
  },
  {
   "cell_type": "code",
   "execution_count": 300,
   "metadata": {
    "Collapsed": "false"
   },
   "outputs": [
    {
     "name": "stdout",
     "output_type": "stream",
     "text": [
      "Multicore coherence: 0.268\n",
      "Mallet coherence: 0.345\n"
     ]
    }
   ],
   "source": [
    "for model in [('Multicore',lda_multi), ('Mallet', lda_mallet)]:\n",
    "    \n",
    "    cv_score = mod.LdaEval(model[1]).coherence_score(texts = lda.pruned_corpus, \n",
    "                                                     dictionary = lda.formatted_dict\n",
    "                                                    )\n",
    "    print(f'{model[0]} coherence: {cv_score:.3f}')"
   ]
  },
  {
   "cell_type": "markdown",
   "metadata": {
    "Collapsed": "false"
   },
   "source": [
    "```\n",
    "Original mallet coherence score: 0.3940258230372272\n",
    "```\n",
    "<br>\n",
    "I'm also getting LDA topic probability vectors for use in embeddings later."
   ]
  },
  {
   "cell_type": "code",
   "execution_count": 302,
   "metadata": {
    "Collapsed": "false"
   },
   "outputs": [],
   "source": [
    "lda_vectors = lda.get_vec_lda(model = lda_mallet, corpus = lda.formatted_corpus, num_topics = 20)"
   ]
  },
  {
   "cell_type": "markdown",
   "metadata": {
    "Collapsed": "false"
   },
   "source": [
    "### LDAvis"
   ]
  },
  {
   "cell_type": "code",
   "execution_count": 306,
   "metadata": {
    "Collapsed": "false"
   },
   "outputs": [],
   "source": [
    "# pyLDAvis.enable_notebook()\n",
    "# eng.LdaEval(lda_mallet).lda_vis(corpus = lda.formatted_corpus, dictionary = lda.formatted_dict)"
   ]
  },
  {
   "cell_type": "markdown",
   "metadata": {
    "Collapsed": "false"
   },
   "source": [
    "# Doc2Vec"
   ]
  },
  {
   "cell_type": "markdown",
   "metadata": {
    "Collapsed": "false"
   },
   "source": [
    "The ```D2V``` class essentially trains a Doc2Vec distributed bag of words (DBOW) model. There are a few extra methods to have some fun with an experimental method, Topic2Vec, inspired by https://arxiv.org/pdf/1506.08422.pdf. The implementation using document tags was adapted from this thread: https://groups.google.com/u/1/g/gensim/c/BVu5-pD6910/m/7G_UM9vBJAAJ. Unfortunately the results weren't as promising as the original paper's, and I did not pursue it beyond the exploratory phase of eye-checking it. "
   ]
  },
  {
   "cell_type": "code",
   "execution_count": 308,
   "metadata": {
    "Collapsed": "false"
   },
   "outputs": [],
   "source": [
    "d2v = eng.D2V(corpus = lda.pruned_corpus, lda_model = lda_mallet, lda_vocab = lda.pruned_vocab)"
   ]
  },
  {
   "cell_type": "markdown",
   "metadata": {
    "Collapsed": "false"
   },
   "source": [
    "Each unique word in the corpus receives it's own topic tag based on the highest probability topic that it belongs to. During the standard Doc2Vec TaggedDocument phase, all topics that appear in each document are entered as tags. Using below as an example, if ```fight``` appeared in a document, that document would get an additional tag for ```topic_0```. For a more granular view, please refer to src folder. "
   ]
  },
  {
   "cell_type": "code",
   "execution_count": 309,
   "metadata": {
    "Collapsed": "false"
   },
   "outputs": [
    {
     "data": {
      "text/plain": [
       "('topic_0', 0.030745814307458142)"
      ]
     },
     "execution_count": 309,
     "metadata": {},
     "output_type": "execute_result"
    }
   ],
   "source": [
    "#Get topic tags\n",
    "d2v.get_topic_tags()\n",
    "d2v.topic_tags['fight']"
   ]
  },
  {
   "cell_type": "code",
   "execution_count": 310,
   "metadata": {
    "Collapsed": "false"
   },
   "outputs": [
    {
     "data": {
      "text/plain": [
       "<feature_engineering.engineering_utils.D2V at 0x7fb98b8bec10>"
      ]
     },
     "execution_count": 310,
     "metadata": {},
     "output_type": "execute_result"
    }
   ],
   "source": [
    "d2v.tag_docs(topic2vec=True)"
   ]
  },
  {
   "cell_type": "code",
   "execution_count": 207,
   "metadata": {
    "Collapsed": "false"
   },
   "outputs": [],
   "source": [
    "d2v_model = d2v.model_train()"
   ]
  },
  {
   "cell_type": "code",
   "execution_count": 208,
   "metadata": {
    "Collapsed": "false"
   },
   "outputs": [],
   "source": [
    "doc_vectors = d2v.get_vec_d2v(d2v_model)"
   ]
  },
  {
   "cell_type": "markdown",
   "metadata": {
    "Collapsed": "true"
   },
   "source": [
    "### Similarity sanity checks"
   ]
  },
  {
   "cell_type": "markdown",
   "metadata": {
    "Collapsed": "false"
   },
   "source": [
    "Checking topic vectors for discernability (which we do not see)."
   ]
  },
  {
   "cell_type": "code",
   "execution_count": 143,
   "metadata": {
    "Collapsed": "false"
   },
   "outputs": [],
   "source": [
    "# for i in range(20): # range(k)\n",
    "#     print(f'Topic {i}:')\n",
    "#     print('\\n')\n",
    "#     print(model.wv.similar_by_vector(model.docvecs[f'topic_{i}'], topn = 5))\n",
    "#     print('\\n')"
   ]
  },
  {
   "cell_type": "markdown",
   "metadata": {
    "Collapsed": "false",
    "jupyter": {
     "source_hidden": true
    }
   },
   "source": [
    "```\n",
    "Topic 0:\n",
    "[('basically', 0.5020793080329895), ('think', 0.4969105124473572), ('know', 0.48571306467056274), ('go', 0.48498255014419556), ('turn', 0.47766807675361633)]\n",
    "\n",
    "\n",
    "Topic 1:\n",
    "[('basically', 0.49959078431129456), ('think', 0.4901582896709442), ('go', 0.4857536554336548), ('turn', 0.47744661569595337), ('know', 0.4764932692050934)]\n",
    "\n",
    "\n",
    "Topic 2:\n",
    "[('basically', 0.5042178630828857), ('think', 0.5036580562591553), ('know', 0.49271059036254883), ('go', 0.492182195186615), ('turn', 0.48015865683555603)]\n",
    "\n",
    "\n",
    "Topic 3:\n",
    "[('basically', 0.5106383562088013), ('think', 0.5039139986038208), ('go', 0.49394136667251587), ('know', 0.49392950534820557), ('turn', 0.4874500036239624)]\n",
    "\n",
    "\n",
    "Topic 4:\n",
    "[('think', 0.5074610114097595), ('basically', 0.5069828629493713), ('know', 0.49426162242889404), ('go', 0.49001604318618774), ('turn', 0.4818304479122162)]\n",
    "\n",
    "\n",
    "Topic 5:\n",
    "[('basically', 0.5152652263641357), ('think', 0.4949542284011841), ('go', 0.4939420223236084), ('come', 0.485797643661499), ('turn', 0.48388174176216125)]\n",
    "\n",
    "\n",
    "Topic 6:\n",
    "[('basically', 0.5038674473762512), ('think', 0.4972285032272339), ('go', 0.4946080446243286), ('know', 0.48309510946273804), ('turn', 0.4805246591567993)]\n",
    "\n",
    "\n",
    "Topic 7:\n",
    "[('think', 0.5109632015228271), ('basically', 0.5051131844520569), ('know', 0.4949929416179657), ('go', 0.4863765835762024), ('turn', 0.48439496755599976)]\n",
    "\n",
    "\n",
    "Topic 8:\n",
    "[('basically', 0.5024288892745972), ('go', 0.49992817640304565), ('think', 0.49113553762435913), ('know', 0.47811466455459595), ('turn', 0.47655951976776123)]\n",
    "\n",
    "\n",
    "Topic 9:\n",
    "[('basically', 0.5008957386016846), ('think', 0.4980354309082031), ('know', 0.48374733328819275), ('go', 0.48040711879730225), ('turn', 0.47383102774620056)]\n",
    "\n",
    "\n",
    "Topic 10:\n",
    "[('basically', 0.5187561511993408), ('think', 0.5091937780380249), ('go', 0.5029682517051697), ('know', 0.494728684425354), ('turn', 0.49202293157577515)]\n",
    "\n",
    "\n",
    "Topic 11:\n",
    "[('think', 0.5103544592857361), ('basically', 0.5048021078109741), ('go', 0.4966704249382019), ('know', 0.4958295226097107), ('turn', 0.4859817326068878)]\n",
    "\n",
    "\n",
    "Topic 12:\n",
    "[('think', 0.5095230340957642), ('basically', 0.5090795159339905), ('turn', 0.5081111192703247), ('go', 0.4984132647514343), ('know', 0.4896523356437683)]\n",
    "\n",
    "\n",
    "Topic 13:\n",
    "[('basically', 0.5102134346961975), ('go', 0.5037297010421753), ('think', 0.4998404383659363), ('know', 0.48913341760635376), ('turn', 0.48528119921684265)]\n",
    "\n",
    "\n",
    "Topic 14:\n",
    "[('basically', 0.5128666758537292), ('think', 0.500403642654419), ('go', 0.4965251684188843), ('know', 0.4870407283306122), ('turn', 0.4844188988208771)]\n",
    "\n",
    "\n",
    "Topic 15:\n",
    "[('basically', 0.504505455493927), ('think', 0.4960896372795105), ('go', 0.4941573441028595), ('know', 0.47950294613838196), ('turn', 0.4766482710838318)]\n",
    "\n",
    "\n",
    "Topic 16:\n",
    "[('think', 0.5055217742919922), ('basically', 0.4969904124736786), ('turn', 0.4829714894294739), ('know', 0.4826893210411072), ('go', 0.478921502828598)]\n",
    "\n",
    "\n",
    "Topic 17:\n",
    "[('basically', 0.5069231986999512), ('go', 0.49580562114715576), ('think', 0.4897996187210083), ('turn', 0.4851585924625397), ('come', 0.4790429472923279)]\n",
    "\n",
    "\n",
    "Topic 18:\n",
    "[('basically', 0.5036921501159668), ('think', 0.49252209067344666), ('go', 0.4887089431285858), ('know', 0.4831080138683319), ('turn', 0.47812655568122864)]\n",
    "\n",
    "\n",
    "Topic 19:\n",
    "[('basically', 0.5063236951828003), ('think', 0.501762330532074), ('know', 0.49207597970962524), ('go', 0.48725268244743347), ('turn', 0.4832802414894104)]\n",
    "```"
   ]
  },
  {
   "cell_type": "markdown",
   "metadata": {
    "Collapsed": "false"
   },
   "source": [
    "<br>\n",
    "Always need to have fun with a few vector operations."
   ]
  },
  {
   "cell_type": "code",
   "execution_count": 144,
   "metadata": {
    "Collapsed": "false"
   },
   "outputs": [],
   "source": [
    "# model.wv.most_similar(positive=['king', 'woman'], negative=['man'])"
   ]
  },
  {
   "cell_type": "markdown",
   "metadata": {
    "Collapsed": "false"
   },
   "source": [
    "```\n",
    "[('queen', 0.45131027698516846),\n",
    " ('sized', 0.33133023977279663),\n",
    " ('girl', 0.3231159746646881),\n",
    " ('size', 0.3218972086906433),\n",
    " ('favorite', 0.3210022449493408),\n",
    " ('lion', 0.3180762231349945),\n",
    " ('princess', 0.31422391533851624),\n",
    " ('blast', 0.31358087062835693),\n",
    " ('movie', 0.30862587690353394),\n",
    " ('league', 0.3079490065574646)]\n",
    "```"
   ]
  },
  {
   "cell_type": "code",
   "execution_count": 145,
   "metadata": {
    "Collapsed": "false"
   },
   "outputs": [],
   "source": [
    "# model.wv.most_similar(positive=['marriage', 'cheating'], negative=['trust'])"
   ]
  },
  {
   "cell_type": "markdown",
   "metadata": {
    "Collapsed": "false"
   },
   "source": [
    "```\n",
    "[('divorce', 0.5356012582778931),\n",
    " ('married', 0.5003902912139893),\n",
    " ('marry', 0.4952297806739807),\n",
    " ('affair', 0.48001086711883545),\n",
    " ('relationship', 0.44852685928344727),\n",
    " ('infidelity', 0.4479179382324219),\n",
    " ('wife', 0.4458017647266388),\n",
    " ('ltr', 0.44243866205215454),\n",
    " ('husband', 0.43437737226486206),\n",
    " ('engage', 0.42213284969329834)]\n",
    "```"
   ]
  },
  {
   "cell_type": "markdown",
   "metadata": {
    "Collapsed": "false"
   },
   "source": [
    "# BERT embeddings"
   ]
  },
  {
   "cell_type": "markdown",
   "metadata": {
    "Collapsed": "false"
   },
   "source": [
    "The last step before constructing the contextual embeddings is to extract the BERT embeddings for each document."
   ]
  },
  {
   "cell_type": "code",
   "execution_count": 199,
   "metadata": {
    "Collapsed": "false"
   },
   "outputs": [],
   "source": [
    "bert = eng.Bert(lda.corpus, eng.SentenceTransformer('bert-base-nli-max-tokens'))\n",
    "bert_embeddings = bert.join_docs().transform_corpus()"
   ]
  },
  {
   "cell_type": "code",
   "execution_count": 315,
   "metadata": {
    "Collapsed": "false"
   },
   "outputs": [],
   "source": [
    "bert = eng.Bert(lda.corpus, eng.SentenceTransformer('bert-base-nli-max-tokens'))\n",
    "bert_embeddings = bert.join_docs().transform_corpus()"
   ]
  },
  {
   "cell_type": "code",
   "execution_count": 320,
   "metadata": {
    "Collapsed": "false"
   },
   "outputs": [],
   "source": [
    "with open('models/bert/bert_docvecs.pkl', 'wb') as f:\n",
    "    eng.pickle.dump(bert_embeddings, f)"
   ]
  },
  {
   "cell_type": "markdown",
   "metadata": {
    "Collapsed": "false"
   },
   "source": [
    "# Contextual embeddings"
   ]
  },
  {
   "cell_type": "code",
   "execution_count": 233,
   "metadata": {
    "Collapsed": "false",
    "collapsed": true,
    "jupyter": {
     "outputs_hidden": true,
     "source_hidden": true
    }
   },
   "outputs": [
    {
     "name": "stderr",
     "output_type": "stream",
     "text": [
      "[autoreload of modeling.lda failed: Traceback (most recent call last):\n",
      "  File \"/opt/anaconda3/lib/python3.7/site-packages/IPython/extensions/autoreload.py\", line 245, in check\n",
      "    superreload(m, reload, self.old_objects)\n",
      "  File \"/opt/anaconda3/lib/python3.7/site-packages/IPython/extensions/autoreload.py\", line 394, in superreload\n",
      "    module = reload(module)\n",
      "  File \"/opt/anaconda3/lib/python3.7/imp.py\", line 314, in reload\n",
      "    return importlib.reload(module)\n",
      "  File \"/opt/anaconda3/lib/python3.7/importlib/__init__.py\", line 169, in reload\n",
      "    _bootstrap._exec(spec, module)\n",
      "  File \"<frozen importlib._bootstrap>\", line 630, in _exec\n",
      "  File \"<frozen importlib._bootstrap_external>\", line 724, in exec_module\n",
      "  File \"<frozen importlib._bootstrap_external>\", line 860, in get_code\n",
      "  File \"<frozen importlib._bootstrap_external>\", line 791, in source_to_code\n",
      "  File \"<frozen importlib._bootstrap>\", line 219, in _call_with_frames_removed\n",
      "  File \"/Users/bryanross/Documents/ds/Github/bryan_ross_proj_4/src/modeling/lda.py\", line 448\n",
      "    super().__init__(lda_vecs, d2v_vecs, bert_vecs):\n",
      "                                                   ^\n",
      "SyntaxError: invalid syntax\n",
      "]\n"
     ]
    }
   ],
   "source": [
    "class Autoencoder:\n",
    "    \"\"\"\n",
    "    Autoencoder for learning latent space representation\n",
    "    architecture simplified for only one hidden layer\n",
    "    \"\"\"\n",
    "\n",
    "    def __init__(self, latent_dim=32, activation='relu', epochs=200, batch_size=128):\n",
    "        self.latent_dim = latent_dim\n",
    "        self.activation = activation\n",
    "        self.epochs = epochs\n",
    "        self.batch_size = batch_size\n",
    "        self.autoencoder = None\n",
    "        self.encoder = None\n",
    "        self.decoder = None\n",
    "        self.his = None\n",
    "\n",
    "    def _compile(self, input_dim):\n",
    "        \"\"\"\n",
    "        compile the computational graph\n",
    "        \"\"\"\n",
    "        input_vec = Input(shape=(input_dim,))\n",
    "        encoded = Dense(self.latent_dim, activation=self.activation)(input_vec)\n",
    "        decoded = Dense(input_dim, activation=self.activation)(encoded)\n",
    "        self.autoencoder = Model(input_vec, decoded)\n",
    "        self.encoder = Model(input_vec, encoded)\n",
    "        encoded_input = Input(shape=(self.latent_dim,))\n",
    "        decoder_layer = self.autoencoder.layers[-1]\n",
    "        self.decoder = Model(encoded_input, self.autoencoder.layers[-1](encoded_input))\n",
    "        self.autoencoder.compile(optimizer='adam', loss=keras.losses.mean_squared_error)\n",
    "\n",
    "    def fit(self, X):\n",
    "        if not self.autoencoder:\n",
    "            self._compile(X.shape[1])\n",
    "        X_train, X_test = train_test_split(X)\n",
    "        self.his = self.autoencoder.fit(X_train, X_train,\n",
    "                                        epochs=200,\n",
    "                                        batch_size=128,\n",
    "                                        shuffle=True,\n",
    "                                        validation_data=(X_test, X_test), verbose=0)"
   ]
  },
  {
   "cell_type": "code",
   "execution_count": 321,
   "metadata": {
    "Collapsed": "false"
   },
   "outputs": [],
   "source": [
    "encodings = eng.ConcatVectors(lda_vectors, doc_vectors, bert_embeddings)"
   ]
  },
  {
   "cell_type": "code",
   "execution_count": 322,
   "metadata": {
    "Collapsed": "false"
   },
   "outputs": [],
   "source": [
    "lda_d2v_concatted = encodings.transform_lda_d2v()\n",
    "lda_bert_concatted = encodings.transform_lda_bert()"
   ]
  },
  {
   "cell_type": "code",
   "execution_count": 323,
   "metadata": {
    "Collapsed": "false"
   },
   "outputs": [],
   "source": [
    "encoded_lda_d2v = mod.Autoencoder()\n",
    "encoded_lda_d2v.fit(lda_d2v_concatted)\n",
    "lda_d2v_embeddings = encoded_lda_d2v.encoder.predict(lda_d2v_concatted)"
   ]
  },
  {
   "cell_type": "code",
   "execution_count": 324,
   "metadata": {
    "Collapsed": "false"
   },
   "outputs": [],
   "source": [
    "encoded_lda_bert = mod.Autoencoder()\n",
    "encoded_lda_bert.fit(lda_bert_concatted)\n",
    "lda_bert_embeddings = encoded_lda_bert.encoder.predict(lda_bert_concatted)"
   ]
  },
  {
   "cell_type": "markdown",
   "metadata": {
    "Collapsed": "false"
   },
   "source": [
    "# Saving models"
   ]
  },
  {
   "cell_type": "code",
   "execution_count": 336,
   "metadata": {
    "Collapsed": "false"
   },
   "outputs": [],
   "source": [
    "encoded_lda_d2v.encoder.save_weights('test.h5')"
   ]
  },
  {
   "cell_type": "code",
   "execution_count": 337,
   "metadata": {
    "Collapsed": "false"
   },
   "outputs": [],
   "source": [
    "eng.save(lda_mallet, lda_vectors, d2v_model, bert_embeddings, encoded_lda_d2v.encoder, lda_d2v_embeddings, \n",
    "         encoded_lda_bert.encoder, lda_bert_embeddings)"
   ]
  },
  {
   "cell_type": "code",
   "execution_count": null,
   "metadata": {
    "Collapsed": "false"
   },
   "outputs": [],
   "source": [
    "save(lda_mallet, lda_vectors, \n",
    "     d2v_model, doc_vectors, \n",
    "     bert_embeddings, \n",
    "     encoded_lda_d2v, lda_d2v_embeddings, \n",
    "     encoded_lda_bert, lda_bert_embeddings)"
   ]
  },
  {
   "cell_type": "code",
   "execution_count": null,
   "metadata": {
    "Collapsed": "false"
   },
   "outputs": [],
   "source": [
    "# mallet_converted.save('models/lda_model') \n",
    "# d2v_model.save('models/doc_embeddings')\n",
    "# with open('lda_vecs.pkl', 'wb') as lda_vecs:\n",
    "#     pickle.dump(lda_vectors, lda_vecs)\n",
    "# serialize model to JSON\n",
    "# model_json = ae.encoder.to_json()\n",
    "# with open(\"models/autoencoder.json\", \"w\") as json_file:\n",
    "#     json_file.write(model_json)\n",
    "# # serialize weights to HDF5\n",
    "# ae.encoder.save_weights(\"models/model.h5\")\n",
    "# print(\"Saved model to disk\")"
   ]
  },
  {
   "cell_type": "code",
   "execution_count": 120,
   "metadata": {
    "Collapsed": "false"
   },
   "outputs": [
    {
     "name": "stdout",
     "output_type": "stream",
     "text": [
      "Saved model to disk\n"
     ]
    }
   ],
   "source": [
    "# serialize model to JSON\n",
    "# model_json = ae.encoder.to_json()\n",
    "# with open(\"models/autoencoder.json\", \"w\") as json_file:\n",
    "#     json_file.write(model_json)\n",
    "# # serialize weights to HDF5\n",
    "# ae.encoder.save_weights(\"models/model.h5\")\n",
    "# print(\"Saved model to disk\")\n",
    " \n",
    "# later...\n",
    " \n",
    "# load json and create model\n",
    "# json_file = open('model.json', 'r')\n",
    "# loaded_model_json = json_file.read()\n",
    "# json_file.close()\n",
    "# loaded_model = model_from_json(loaded_model_json)\n",
    "# # load weights into new model\n",
    "# loaded_model.load_weights(\"model.h5\")\n",
    "# print(\"Loaded model from disk\")"
   ]
  },
  {
   "cell_type": "code",
   "execution_count": 121,
   "metadata": {
    "Collapsed": "false"
   },
   "outputs": [
    {
     "name": "stdout",
     "output_type": "stream",
     "text": [
      "Loaded model from disk\n"
     ]
    }
   ],
   "source": [
    "#load json and create model\n",
    "json_file = open('models/autoencoder.json', 'r')\n",
    "loaded_model_json = json_file.read()\n",
    "json_file.close()\n",
    "loaded_model = model_from_json(loaded_model_json)\n",
    "# load weights into new model\n",
    "loaded_model.load_weights(\"models/model.h5\")\n",
    "print(\"Loaded model from disk\")"
   ]
  },
  {
   "cell_type": "code",
   "execution_count": null,
   "metadata": {
    "Collapsed": "false"
   },
   "outputs": [],
   "source": [
    "loaded_model.predict()"
   ]
  }
 ],
 "metadata": {
  "kernelspec": {
   "display_name": "Python 3",
   "language": "python",
   "name": "python3"
  },
  "language_info": {
   "codemirror_mode": {
    "name": "ipython",
    "version": 3
   },
   "file_extension": ".py",
   "mimetype": "text/x-python",
   "name": "python",
   "nbconvert_exporter": "python",
   "pygments_lexer": "ipython3",
   "version": "3.7.6"
  }
 },
 "nbformat": 4,
 "nbformat_minor": 4
}
