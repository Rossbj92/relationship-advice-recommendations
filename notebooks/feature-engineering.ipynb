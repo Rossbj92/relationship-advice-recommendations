{
 "cells": [
  {
   "cell_type": "markdown",
   "metadata": {
    "Collapsed": "false"
   },
   "source": [
    "---"
   ]
  },
  {
   "cell_type": "code",
   "execution_count": 1,
   "metadata": {
    "Collapsed": "false"
   },
   "outputs": [],
   "source": [
    "%load_ext autoreload\n",
    "%autoreload 2"
   ]
  },
  {
   "cell_type": "code",
   "execution_count": 12,
   "metadata": {
    "Collapsed": "false"
   },
   "outputs": [],
   "source": [
    "#Adding path to util \n",
    "import sys\n",
    "sys.path[-1] = f'{sys.path[0]}'.replace('notebooks', 'src')\n",
    "#/src/feature_engineering/engineering_util.py\n",
    "import feature_engineering.engineering_util as eng"
   ]
  },
  {
   "cell_type": "markdown",
   "metadata": {
    "Collapsed": "false"
   },
   "source": [
    "---"
   ]
  },
  {
   "cell_type": "code",
   "execution_count": 13,
   "metadata": {
    "Collapsed": "false"
   },
   "outputs": [],
   "source": [
    "data = eng.load_data('../data/interim/processed_sample.csv')"
   ]
  },
  {
   "cell_type": "code",
   "execution_count": 14,
   "metadata": {
    "Collapsed": "false"
   },
   "outputs": [
    {
     "data": {
      "text/html": [
       "<div>\n",
       "<style scoped>\n",
       "    .dataframe tbody tr th:only-of-type {\n",
       "        vertical-align: middle;\n",
       "    }\n",
       "\n",
       "    .dataframe tbody tr th {\n",
       "        vertical-align: top;\n",
       "    }\n",
       "\n",
       "    .dataframe thead th {\n",
       "        text-align: right;\n",
       "    }\n",
       "</style>\n",
       "<table border=\"1\" class=\"dataframe\">\n",
       "  <thead>\n",
       "    <tr style=\"text-align: right;\">\n",
       "      <th></th>\n",
       "      <th>Unnamed: 0</th>\n",
       "      <th>id</th>\n",
       "      <th>url</th>\n",
       "      <th>title</th>\n",
       "      <th>text</th>\n",
       "      <th>processed</th>\n",
       "    </tr>\n",
       "  </thead>\n",
       "  <tbody>\n",
       "    <tr>\n",
       "      <th>0</th>\n",
       "      <td>0</td>\n",
       "      <td>8kqg3d</td>\n",
       "      <td>https://www.reddit.com/r/relationship_advice/c...</td>\n",
       "      <td>Staying friends with an ex</td>\n",
       "      <td>I was with this guy for about 3 months. During...</td>\n",
       "      <td>['stay', 'friend', 'ex', 'guy', '3', 'month', ...</td>\n",
       "    </tr>\n",
       "    <tr>\n",
       "      <th>1</th>\n",
       "      <td>1</td>\n",
       "      <td>8kqe1l</td>\n",
       "      <td>https://www.reddit.com/r/relationship_advice/c...</td>\n",
       "      <td>I [29/f] am not sure if he [34/m] is really in...</td>\n",
       "      <td>I met this guy over the past summer and we hun...</td>\n",
       "      <td>['29', 'f', 'sure', '34', 'm', 'interested', '...</td>\n",
       "    </tr>\n",
       "    <tr>\n",
       "      <th>2</th>\n",
       "      <td>2</td>\n",
       "      <td>8kqb8v</td>\n",
       "      <td>https://www.reddit.com/r/relationship_advice/c...</td>\n",
       "      <td>How to give my number to my work-crush W/O bei...</td>\n",
       "      <td>(please delete if not allowed) \\nHi all! Not s...</td>\n",
       "      <td>['number', 'work', 'crush', 'without', 'creepy...</td>\n",
       "    </tr>\n",
       "    <tr>\n",
       "      <th>3</th>\n",
       "      <td>3</td>\n",
       "      <td>8kqa1n</td>\n",
       "      <td>https://www.reddit.com/r/relationship_advice/c...</td>\n",
       "      <td>im a cheater</td>\n",
       "      <td>i know what i did was wrong. but what should i...</td>\n",
       "      <td>['be', 'cheater', 'know', 'wrong', 'kiss', 'be...</td>\n",
       "    </tr>\n",
       "    <tr>\n",
       "      <th>4</th>\n",
       "      <td>4</td>\n",
       "      <td>8kq87l</td>\n",
       "      <td>https://www.reddit.com/r/relationship_advice/c...</td>\n",
       "      <td>I am afraid of getting hurt by my boyfriend again</td>\n",
       "      <td>Me and my boyfriend are 5 months together, we ...</td>\n",
       "      <td>['afraid', 'get', 'hurt', 'boyfriend', 'boyfri...</td>\n",
       "    </tr>\n",
       "  </tbody>\n",
       "</table>\n",
       "</div>"
      ],
      "text/plain": [
       "   Unnamed: 0      id                                                url  \\\n",
       "0           0  8kqg3d  https://www.reddit.com/r/relationship_advice/c...   \n",
       "1           1  8kqe1l  https://www.reddit.com/r/relationship_advice/c...   \n",
       "2           2  8kqb8v  https://www.reddit.com/r/relationship_advice/c...   \n",
       "3           3  8kqa1n  https://www.reddit.com/r/relationship_advice/c...   \n",
       "4           4  8kq87l  https://www.reddit.com/r/relationship_advice/c...   \n",
       "\n",
       "                                               title  \\\n",
       "0                         Staying friends with an ex   \n",
       "1  I [29/f] am not sure if he [34/m] is really in...   \n",
       "2  How to give my number to my work-crush W/O bei...   \n",
       "3                                       im a cheater   \n",
       "4  I am afraid of getting hurt by my boyfriend again   \n",
       "\n",
       "                                                text  \\\n",
       "0  I was with this guy for about 3 months. During...   \n",
       "1  I met this guy over the past summer and we hun...   \n",
       "2  (please delete if not allowed) \\nHi all! Not s...   \n",
       "3  i know what i did was wrong. but what should i...   \n",
       "4  Me and my boyfriend are 5 months together, we ...   \n",
       "\n",
       "                                           processed  \n",
       "0  ['stay', 'friend', 'ex', 'guy', '3', 'month', ...  \n",
       "1  ['29', 'f', 'sure', '34', 'm', 'interested', '...  \n",
       "2  ['number', 'work', 'crush', 'without', 'creepy...  \n",
       "3  ['be', 'cheater', 'know', 'wrong', 'kiss', 'be...  \n",
       "4  ['afraid', 'get', 'hurt', 'boyfriend', 'boyfri...  "
      ]
     },
     "execution_count": 14,
     "metadata": {},
     "output_type": "execute_result"
    }
   ],
   "source": [
    "data.head()"
   ]
  },
  {
   "cell_type": "markdown",
   "metadata": {
    "Collapsed": "false"
   },
   "source": [
    "<br>\n",
    "The first thing to do is extract our corpus from the dataframe, then format it for use in Gensim. "
   ]
  },
  {
   "cell_type": "code",
   "execution_count": 15,
   "metadata": {
    "Collapsed": "false"
   },
   "outputs": [],
   "source": [
    "corpus = eng.get_corpus(data, 'processed')"
   ]
  },
  {
   "cell_type": "code",
   "execution_count": 16,
   "metadata": {
    "Collapsed": "false"
   },
   "outputs": [
    {
     "data": {
      "text/plain": [
       "<feature_engineering.engineering_util.LDA at 0x7fae4c2ed9d0>"
      ]
     },
     "execution_count": 16,
     "metadata": {},
     "output_type": "execute_result"
    }
   ],
   "source": [
    "lda = eng.LDA(corpus)\n",
    "lda.format_corpus()"
   ]
  },
  {
   "cell_type": "markdown",
   "metadata": {
    "Collapsed": "false"
   },
   "source": [
    "# LDA"
   ]
  },
  {
   "cell_type": "markdown",
   "metadata": {
    "Collapsed": "false"
   },
   "source": [
    "The final LDA model used Gensim's Mallet wrapper. I compared this with the ```LDAmulticore``` model from Gensim, measuring model performance with the ```c_v``` coherence measure. This ```c_v``` coherence measure, in addition to inspection of the highest probability topics' words, led to choosing 20 topics as the optimal amount. "
   ]
  },
  {
   "cell_type": "markdown",
   "metadata": {
    "Collapsed": "false"
   },
   "source": [
    "**Multicore**"
   ]
  },
  {
   "cell_type": "code",
   "execution_count": 17,
   "metadata": {
    "Collapsed": "false"
   },
   "outputs": [],
   "source": [
    "lda_multi = lda.train()"
   ]
  },
  {
   "cell_type": "markdown",
   "metadata": {
    "Collapsed": "false"
   },
   "source": [
    "**Mallet**"
   ]
  },
  {
   "cell_type": "code",
   "execution_count": 19,
   "metadata": {
    "Collapsed": "false"
   },
   "outputs": [],
   "source": [
    "mallet_path = '../models/mallet-2.0.8/bin/mallet' \n",
    "lda_mallet = lda.train(mallet_path = mallet_path)\n",
    "# lda_mallet.save('models/lda/lda_model') # saving model"
   ]
  },
  {
   "cell_type": "markdown",
   "metadata": {
    "Collapsed": "false"
   },
   "source": [
    "### LDA Coherence"
   ]
  },
  {
   "cell_type": "code",
   "execution_count": 20,
   "metadata": {
    "Collapsed": "false"
   },
   "outputs": [
    {
     "name": "stdout",
     "output_type": "stream",
     "text": [
      "Multicore coherence: 0.268\n",
      "Mallet coherence: 0.345\n"
     ]
    }
   ],
   "source": [
    "for model in [('Multicore',lda_multi), ('Mallet', lda_mallet)]:\n",
    "    \n",
    "    cv_score = eng.LdaEval(model[1]).coherence_score(texts = lda.pruned_corpus, \n",
    "                                                     dictionary = lda.formatted_dict\n",
    "                                                    )\n",
    "    print(f'{model[0]} coherence: {cv_score:.3f}')"
   ]
  },
  {
   "cell_type": "markdown",
   "metadata": {
    "Collapsed": "false"
   },
   "source": [
    "```\n",
    "Original mallet coherence score: 0.3940258230372272\n",
    "```\n",
    "<br>\n",
    "I'm also getting LDA topic probability vectors for use in embeddings later."
   ]
  },
  {
   "cell_type": "code",
   "execution_count": 21,
   "metadata": {
    "Collapsed": "false"
   },
   "outputs": [],
   "source": [
    "lda_vectors = lda.get_vec_lda(model = lda_mallet, corpus = lda.formatted_corpus, num_topics = 20)"
   ]
  },
  {
   "cell_type": "markdown",
   "metadata": {
    "Collapsed": "false"
   },
   "source": [
    "### LDAvis"
   ]
  },
  {
   "cell_type": "code",
   "execution_count": 22,
   "metadata": {
    "Collapsed": "false"
   },
   "outputs": [],
   "source": [
    "# pyLDAvis.enable_notebook()\n",
    "# eng.LdaEval(lda_mallet).lda_vis(corpus = lda.formatted_corpus, dictionary = lda.formatted_dict)"
   ]
  },
  {
   "cell_type": "markdown",
   "metadata": {
    "Collapsed": "false"
   },
   "source": [
    "# Doc2Vec"
   ]
  },
  {
   "cell_type": "markdown",
   "metadata": {
    "Collapsed": "false"
   },
   "source": [
    "The ```D2V``` class essentially trains a Doc2Vec distributed bag of words (DBOW) model. There are a few extra methods to have some fun with an experimental method, Topic2Vec, inspired by https://arxiv.org/pdf/1506.08422.pdf. The implementation using document tags was adapted from this thread: https://groups.google.com/u/1/g/gensim/c/BVu5-pD6910/m/7G_UM9vBJAAJ. Unfortunately the results weren't as promising as the original paper's, and I did not pursue it beyond the exploratory phase of eye-checking it. "
   ]
  },
  {
   "cell_type": "code",
   "execution_count": 23,
   "metadata": {
    "Collapsed": "false"
   },
   "outputs": [],
   "source": [
    "d2v = eng.D2V(corpus = lda.pruned_corpus, lda_model = lda_mallet, lda_vocab = lda.pruned_vocab)"
   ]
  },
  {
   "cell_type": "markdown",
   "metadata": {
    "Collapsed": "false"
   },
   "source": [
    "Each unique word in the corpus receives it's own topic tag based on the highest probability topic that it belongs to. During the standard Doc2Vec TaggedDocument phase, all topics that appear in each document are entered as tags. Using below as an example, if ```fight``` appeared in a document, that document would get an additional tag for ```topic_0```. For a more granular view, please refer to src folder. "
   ]
  },
  {
   "cell_type": "code",
   "execution_count": 24,
   "metadata": {
    "Collapsed": "false"
   },
   "outputs": [
    {
     "data": {
      "text/plain": [
       "('topic_0', 0.030745814307458142)"
      ]
     },
     "execution_count": 24,
     "metadata": {},
     "output_type": "execute_result"
    }
   ],
   "source": [
    "#Get topic tags\n",
    "d2v.get_topic_tags()\n",
    "d2v.topic_tags['fight']"
   ]
  },
  {
   "cell_type": "code",
   "execution_count": 25,
   "metadata": {
    "Collapsed": "false"
   },
   "outputs": [
    {
     "data": {
      "text/plain": [
       "<feature_engineering.engineering_util.D2V at 0x7fae49fa8590>"
      ]
     },
     "execution_count": 25,
     "metadata": {},
     "output_type": "execute_result"
    }
   ],
   "source": [
    "d2v.tag_docs(topic2vec=True)"
   ]
  },
  {
   "cell_type": "code",
   "execution_count": 26,
   "metadata": {
    "Collapsed": "false"
   },
   "outputs": [],
   "source": [
    "d2v_model = d2v.model_train()"
   ]
  },
  {
   "cell_type": "code",
   "execution_count": 27,
   "metadata": {
    "Collapsed": "false"
   },
   "outputs": [],
   "source": [
    "doc_vectors = d2v.get_vec_d2v(d2v_model)"
   ]
  },
  {
   "cell_type": "markdown",
   "metadata": {
    "Collapsed": "false"
   },
   "source": [
    "### Similarity sanity checks"
   ]
  },
  {
   "cell_type": "markdown",
   "metadata": {
    "Collapsed": "false"
   },
   "source": [
    "Checking topic vectors for discernability (which we do not see)."
   ]
  },
  {
   "cell_type": "code",
   "execution_count": 28,
   "metadata": {
    "Collapsed": "false"
   },
   "outputs": [],
   "source": [
    "# for i in range(20): # range(k)\n",
    "#     print(f'Topic {i}:')\n",
    "#     print('\\n')\n",
    "#     print(model.wv.similar_by_vector(model.docvecs[f'topic_{i}'], topn = 5))\n",
    "#     print('\\n')"
   ]
  },
  {
   "cell_type": "markdown",
   "metadata": {
    "Collapsed": "false"
   },
   "source": [
    "```\n",
    "Topic 0:\n",
    "[('basically', 0.5020793080329895), ('think', 0.4969105124473572), ('know', 0.48571306467056274), ('go', 0.48498255014419556), ('turn', 0.47766807675361633)]\n",
    "\n",
    "\n",
    "Topic 1:\n",
    "[('basically', 0.49959078431129456), ('think', 0.4901582896709442), ('go', 0.4857536554336548), ('turn', 0.47744661569595337), ('know', 0.4764932692050934)]\n",
    "\n",
    "\n",
    "Topic 2:\n",
    "[('basically', 0.5042178630828857), ('think', 0.5036580562591553), ('know', 0.49271059036254883), ('go', 0.492182195186615), ('turn', 0.48015865683555603)]\n",
    "\n",
    "\n",
    "Topic 3:\n",
    "[('basically', 0.5106383562088013), ('think', 0.5039139986038208), ('go', 0.49394136667251587), ('know', 0.49392950534820557), ('turn', 0.4874500036239624)]\n",
    "\n",
    "\n",
    "Topic 4:\n",
    "[('think', 0.5074610114097595), ('basically', 0.5069828629493713), ('know', 0.49426162242889404), ('go', 0.49001604318618774), ('turn', 0.4818304479122162)]\n",
    "\n",
    "\n",
    "Topic 5:\n",
    "[('basically', 0.5152652263641357), ('think', 0.4949542284011841), ('go', 0.4939420223236084), ('come', 0.485797643661499), ('turn', 0.48388174176216125)]\n",
    "\n",
    "\n",
    "Topic 6:\n",
    "[('basically', 0.5038674473762512), ('think', 0.4972285032272339), ('go', 0.4946080446243286), ('know', 0.48309510946273804), ('turn', 0.4805246591567993)]\n",
    "\n",
    "\n",
    "Topic 7:\n",
    "[('think', 0.5109632015228271), ('basically', 0.5051131844520569), ('know', 0.4949929416179657), ('go', 0.4863765835762024), ('turn', 0.48439496755599976)]\n",
    "\n",
    "\n",
    "Topic 8:\n",
    "[('basically', 0.5024288892745972), ('go', 0.49992817640304565), ('think', 0.49113553762435913), ('know', 0.47811466455459595), ('turn', 0.47655951976776123)]\n",
    "\n",
    "\n",
    "Topic 9:\n",
    "[('basically', 0.5008957386016846), ('think', 0.4980354309082031), ('know', 0.48374733328819275), ('go', 0.48040711879730225), ('turn', 0.47383102774620056)]\n",
    "\n",
    "\n",
    "Topic 10:\n",
    "[('basically', 0.5187561511993408), ('think', 0.5091937780380249), ('go', 0.5029682517051697), ('know', 0.494728684425354), ('turn', 0.49202293157577515)]\n",
    "\n",
    "\n",
    "Topic 11:\n",
    "[('think', 0.5103544592857361), ('basically', 0.5048021078109741), ('go', 0.4966704249382019), ('know', 0.4958295226097107), ('turn', 0.4859817326068878)]\n",
    "\n",
    "\n",
    "Topic 12:\n",
    "[('think', 0.5095230340957642), ('basically', 0.5090795159339905), ('turn', 0.5081111192703247), ('go', 0.4984132647514343), ('know', 0.4896523356437683)]\n",
    "\n",
    "\n",
    "Topic 13:\n",
    "[('basically', 0.5102134346961975), ('go', 0.5037297010421753), ('think', 0.4998404383659363), ('know', 0.48913341760635376), ('turn', 0.48528119921684265)]\n",
    "\n",
    "\n",
    "Topic 14:\n",
    "[('basically', 0.5128666758537292), ('think', 0.500403642654419), ('go', 0.4965251684188843), ('know', 0.4870407283306122), ('turn', 0.4844188988208771)]\n",
    "\n",
    "\n",
    "Topic 15:\n",
    "[('basically', 0.504505455493927), ('think', 0.4960896372795105), ('go', 0.4941573441028595), ('know', 0.47950294613838196), ('turn', 0.4766482710838318)]\n",
    "\n",
    "\n",
    "Topic 16:\n",
    "[('think', 0.5055217742919922), ('basically', 0.4969904124736786), ('turn', 0.4829714894294739), ('know', 0.4826893210411072), ('go', 0.478921502828598)]\n",
    "\n",
    "\n",
    "Topic 17:\n",
    "[('basically', 0.5069231986999512), ('go', 0.49580562114715576), ('think', 0.4897996187210083), ('turn', 0.4851585924625397), ('come', 0.4790429472923279)]\n",
    "\n",
    "\n",
    "Topic 18:\n",
    "[('basically', 0.5036921501159668), ('think', 0.49252209067344666), ('go', 0.4887089431285858), ('know', 0.4831080138683319), ('turn', 0.47812655568122864)]\n",
    "\n",
    "\n",
    "Topic 19:\n",
    "[('basically', 0.5063236951828003), ('think', 0.501762330532074), ('know', 0.49207597970962524), ('go', 0.48725268244743347), ('turn', 0.4832802414894104)]\n",
    "```"
   ]
  },
  {
   "cell_type": "markdown",
   "metadata": {
    "Collapsed": "false"
   },
   "source": [
    "<br>\n",
    "Always need to have fun with a couple vector operations."
   ]
  },
  {
   "cell_type": "code",
   "execution_count": 29,
   "metadata": {
    "Collapsed": "false"
   },
   "outputs": [],
   "source": [
    "# model.wv.most_similar(positive=['king', 'woman'], negative=['man'])"
   ]
  },
  {
   "cell_type": "markdown",
   "metadata": {
    "Collapsed": "false"
   },
   "source": [
    "```\n",
    "[('queen', 0.45131027698516846),\n",
    " ('sized', 0.33133023977279663),\n",
    " ('girl', 0.3231159746646881),\n",
    " ('size', 0.3218972086906433),\n",
    " ('favorite', 0.3210022449493408),\n",
    " ('lion', 0.3180762231349945),\n",
    " ('princess', 0.31422391533851624),\n",
    " ('blast', 0.31358087062835693),\n",
    " ('movie', 0.30862587690353394),\n",
    " ('league', 0.3079490065574646)]\n",
    "```"
   ]
  },
  {
   "cell_type": "code",
   "execution_count": 30,
   "metadata": {
    "Collapsed": "false"
   },
   "outputs": [],
   "source": [
    "# model.wv.most_similar(positive=['marriage', 'cheating'], negative=['trust'])"
   ]
  },
  {
   "cell_type": "markdown",
   "metadata": {
    "Collapsed": "false"
   },
   "source": [
    "```\n",
    "[('divorce', 0.5356012582778931),\n",
    " ('married', 0.5003902912139893),\n",
    " ('marry', 0.4952297806739807),\n",
    " ('affair', 0.48001086711883545),\n",
    " ('relationship', 0.44852685928344727),\n",
    " ('infidelity', 0.4479179382324219),\n",
    " ('wife', 0.4458017647266388),\n",
    " ('ltr', 0.44243866205215454),\n",
    " ('husband', 0.43437737226486206),\n",
    " ('engage', 0.42213284969329834)]\n",
    "```"
   ]
  },
  {
   "cell_type": "markdown",
   "metadata": {
    "Collapsed": "false"
   },
   "source": [
    "# BERT embeddings"
   ]
  },
  {
   "cell_type": "markdown",
   "metadata": {
    "Collapsed": "false"
   },
   "source": [
    "The last step before constructing the contextual embeddings is to extract the BERT embeddings for each document."
   ]
  },
  {
   "cell_type": "code",
   "execution_count": 31,
   "metadata": {
    "Collapsed": "false"
   },
   "outputs": [],
   "source": [
    "bert = eng.Bert(lda.corpus, eng.SentenceTransformer('bert-base-nli-max-tokens'))\n",
    "bert_embeddings = bert.join_docs().transform_corpus()"
   ]
  },
  {
   "cell_type": "markdown",
   "metadata": {
    "Collapsed": "false"
   },
   "source": [
    "# Contextual embeddings"
   ]
  },
  {
   "cell_type": "code",
   "execution_count": 33,
   "metadata": {
    "Collapsed": "false"
   },
   "outputs": [],
   "source": [
    "encodings = eng.ConcatVectors(lda_vectors, doc_vectors, bert_embeddings)"
   ]
  },
  {
   "cell_type": "code",
   "execution_count": 34,
   "metadata": {
    "Collapsed": "false"
   },
   "outputs": [],
   "source": [
    "lda_d2v_concatted = encodings.transform_lda_d2v()\n",
    "lda_bert_concatted = encodings.transform_lda_bert()"
   ]
  },
  {
   "cell_type": "code",
   "execution_count": 35,
   "metadata": {
    "Collapsed": "false"
   },
   "outputs": [],
   "source": [
    "encoded_lda_d2v = eng.Autoencoder()\n",
    "encoded_lda_d2v.fit(lda_d2v_concatted)\n",
    "lda_d2v_embeddings = encoded_lda_d2v.encoder.predict(lda_d2v_concatted)"
   ]
  },
  {
   "cell_type": "code",
   "execution_count": 36,
   "metadata": {
    "Collapsed": "false"
   },
   "outputs": [],
   "source": [
    "encoded_lda_bert = eng.Autoencoder()\n",
    "encoded_lda_bert.fit(lda_bert_concatted)\n",
    "lda_bert_embeddings = encoded_lda_bert.encoder.predict(lda_bert_concatted)"
   ]
  },
  {
   "cell_type": "markdown",
   "metadata": {
    "Collapsed": "false"
   },
   "source": [
    "# Saving models"
   ]
  },
  {
   "cell_type": "code",
   "execution_count": 37,
   "metadata": {
    "Collapsed": "false"
   },
   "outputs": [],
   "source": [
    "# eng.save(lda_mallet, lda_vectors, d2v_model, bert_embeddings, encoded_lda_d2v.encoder, lda_d2v_embeddings, \n",
    "#          encoded_lda_bert.encoder, lda_bert_embeddings)"
   ]
  }
 ],
 "metadata": {
  "kernelspec": {
   "display_name": "Python 3",
   "language": "python",
   "name": "python3"
  },
  "language_info": {
   "codemirror_mode": {
    "name": "ipython",
    "version": 3
   },
   "file_extension": ".py",
   "mimetype": "text/x-python",
   "name": "python",
   "nbconvert_exporter": "python",
   "pygments_lexer": "ipython3",
   "version": "3.7.6"
  }
 },
 "nbformat": 4,
 "nbformat_minor": 4
}
